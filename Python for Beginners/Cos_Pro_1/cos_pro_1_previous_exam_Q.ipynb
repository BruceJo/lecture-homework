{
 "cells": [
  {
   "cell_type": "markdown",
   "metadata": {},
   "source": [
    "## 1. 최소 정렬(빈칸 채우기)\n",
    "\n",
    "중복된 숫자가 없는 배열을 정렬할 때, 정렬 횟수를 최소화 하려 한다.<br>\n",
    "[5, 2, 3, 4, 1]은 5와 1을 한번만 바꾸면 된다.\n",
    "\n",
    "\n",
    "배열이 주어졌을때, 최소 정렬 횟수를 구하시오.\n",
    "\n",
    "<hr>\n",
    "\n",
    "input_1    [5, 2, 3, 4, 1]<br>\n",
    "output_1 = 1\n",
    "\n",
    "input_2    [4, 3, 2, 1]<br>\n",
    "output_2 = 2"
   ]
  },
  {
   "cell_type": "code",
   "execution_count": null,
   "metadata": {},
   "outputs": [],
   "source": [
    "def solution(arr):\n",
    "    temp = [0] * (len(arr)+1)\n",
    "    answer = 0\n",
    "    \n",
    "    for i, value in enumerate(arr):\n",
    "        temp[value] = i\n",
    "    \n",
    "    for i in range(len(arr)):\n",
    "        \n",
    "        if arr[i] != (@@@):            \n",
    "            index = temp[@@@]\n",
    "            arr[i], arr[index] = arr[index], arr[i]\n",
    "            temp[arr[index]] = index\n",
    "            \n",
    "            answer += 1\n",
    "            \n",
    "    return answer\n",
    "\n",
    "\n",
    "input_1 = [5, 2, 3, 4, 1]\n",
    "input_2 = [4, 3, 2, 1]\n",
    "\n",
    "print('output_1 =', solution(input_1))    #정답 1\n",
    "print('output_2 =', solution(input_2))    #정답 2"
   ]
  },
  {
   "cell_type": "markdown",
   "metadata": {},
   "source": [
    "## 2. 도서관 책반납 시스템 (한줄 바꾸기)\n",
    "\n",
    "배열이 다음과 같이 주어진다.<br>\n",
    "status = [[1,0,7], [1,1,3], [1,0,2]]<br>\n",
    "[1,0,7] 중 1은 빌린 사람의 id<br>\n",
    "&emsp;&emsp;&emsp;&emsp;&nbsp;0은 상태 (0: 대여, 1: 반납)<br>\n",
    "&emsp;&emsp;&emsp;&emsp;&nbsp;7은 빌리거나 반납하는 도서 수<br>\n",
    "\n",
    "max_limit = 5<br>\n",
    "한 id당 한번에 최대 5권씩 빌려주는 도서관임<br>\n",
    "\n",
    "위의 매개변수가 주어졌을때 반납을 제외하고 총 몇권을 빌려주었는지 알려한다.<br>\n",
    "1번고객은 7권을 빌리려했지만 최대 5권만 빌려줄수 있었고,<br>\n",
    "1번고객은 이후 책 3권을 반납하여 1번고객은 2권만 갖고있는 상태이다.<br>\n",
    "1번고객은 다시 책 2권을 빌렸으므로 총 7권의 책을 도서관이 대여해주었다.<br>\n",
    "\n",
    "이때, 다음 코드에서 리턴값이 정상적으로 나오도록 한줄만 바꾸세요.<br>\n"
   ]
  },
  {
   "cell_type": "code",
   "execution_count": null,
   "metadata": {},
   "outputs": [],
   "source": [
    "def solution(status):\n",
    "    max_limit = 5\n",
    "    booker = [0 for x in range(0, 10000)]\n",
    "    answer = 0\n",
    "\n",
    "    for [_id, _status, _number] in status:\n",
    "\n",
    "        if _status == 1:\n",
    "            booker[_id] -= _number\n",
    "            continue\n",
    "        rental = min(max_limit, _number - booker[_id])\n",
    "        answer += rental\n",
    "        booker[_id] += rental\n",
    "    return answer\n",
    "    \n",
    "status_1 = [[1,0,7], [1,1,3], [1,0,2]]\n",
    "status_2 = [[1,0,5], [1,1,1], [2,0,5], [1,0,3], [2,1,4], [1,0,3]]\n",
    "status_3 = [[1,0,3], [1,0,3], [1,1,1], [1,1,3], [1,0,5]]\n",
    "\n",
    "print('output_1 = ', solution(status_1))    #정답 7\n",
    "print('output_2 = ', solution(status_2))    #정답 11\n",
    "print('output_3 = ', solution(status_3))    #정답 9"
   ]
  },
  {
   "cell_type": "markdown",
   "metadata": {},
   "source": [
    "## 3. 캐비넷 정하기(함수 작성)\n",
    "\n",
    "학생 5명과 2명씩 쓸수있는 캐비넷이 있다.<br>\n",
    "주어진 학생번호을 정렬하여 첫번째 캐비넷부터 두명씩 배정하려고 한다. <br>\n",
    "이때, 각 캐비넷에 할당된 학생번호를 더하여 출력하시오.<br>\n",
    "\n",
    "<hr>\n",
    "\n",
    "input_1 : <br>\n",
    "&emsp;cabinet = 2,<br>\n",
    "&emsp;students = [2001, 2005, 2002, 2004, 2003]<br>\n",
    "output_1 :<br>\n",
    "&emsp;[4003, 4007, 2005]<br>\n",
    "<br>\n",
    "풀이_1 [[2001 + 2002], [2003 + 2004], [2005]]\n",
    "\n",
    "<hr>\n",
    "\n",
    "input_2 : <br>\n",
    "&emsp;cabinet = 3,<br>\n",
    "&emsp;students = [2507, 2003, 2005, 2010, 2123, 2019, 2018, 2013]<br>\n",
    "output_2 :<br>\n",
    "&emsp;[6018, 6050, 4630]<br>\n",
    "<br>\n",
    "풀이_2 [[2003 + 2005 + 2010], [2013 + 2018 + 2019], [2123 + 2507]]\n",
    "\n",
    "<hr>\n",
    "\n",
    "input_3 : <br>\n",
    "&emsp;cabinet = 2,<br>\n",
    "&emsp;students = [2007, 2003, 2005, 2009, 2008, 2001]<br>\n",
    "output_3 :<br>\n",
    "&emsp;[4004, 4012, 4017]<br>\n",
    "<br>\n",
    "풀이_3 [[2001 + 2003], [2005 + 2007], [2008 + 2009]]"
   ]
  },
  {
   "cell_type": "code",
   "execution_count": null,
   "metadata": {},
   "outputs": [],
   "source": [
    "def solution(students, cabinet):\n",
    "    \n",
    "    return answer\n",
    "\n",
    "\n",
    "students_1 = [2001, 2005, 2002, 2004, 2003]\n",
    "cabinet_1 = 2\n",
    "\n",
    "students_2 = [2507, 2003, 2005, 2010, 2123, 2019, 2018, 2013]\n",
    "cabinet_2 = 3\n",
    "\n",
    "students_3 = [2007, 2003, 2005, 2009, 2008, 2001]\n",
    "cabinet_3 = 2\n",
    "\n",
    "\n",
    "print('output_1 = ', solution(students_1, cabinet_1))\n",
    "print('output_2 = ', solution(students_2, cabinet_2))\n",
    "print('output_3 = ', solution(students_3, cabinet_3))"
   ]
  },
  {
   "cell_type": "markdown",
   "metadata": {},
   "source": [
    "## 4. 가성비 프린터 (함수작성)\n",
    "\n",
    "프린터를 가격대비 가장 좋은걸로 사려한다<br>\n",
    "mymony : 수중의 금액<br>\n",
    "printers : [[프린터성능, 프린터가격]]<br>\n",
    "지수 : 가격/성능<br>\n",
    "\n",
    "mymoney : 2<br>\n",
    "printers = [[3,9], [2,6], [1,3]]<br>\n",
    "위 예시에서 지수(가격대비성능)은 모두 3으로 동일하지만,<br>\n",
    "첫번째 프린터는 수중의 돈보다 크기때문에 살수없고<br>\n",
    "2,3번째 프린터를 살 수 있다.<br>\n",
    "\n",
    "만약, 살수있는 프린터가 하나도 없으면 0을 출력하고<br>\n",
    "살수 있고, 동일한 지수의 프린터가 여러개라면 그중 첫번째 자리를 리턴해야한다.<br>\n",
    "살수 있고, 가장 좋은 프린터가 있다면 그 자리를 리턴해야 한다. <br>\n",
    "위 예시에서는 2를 리턴해야함<br>"
   ]
  },
  {
   "cell_type": "code",
   "execution_count": null,
   "metadata": {},
   "outputs": [],
   "source": [
    "def solution(printers, mymoney):\n",
    "\n",
    "    return answer\n",
    "\n",
    "print('output_1 = ', solution([[3,9], [2,6], [1,3]], 6)) #정답 2\n",
    "print('output_2 = ', solution([[3,9], [2,6], [3,3]], 2)) #정답 0\n",
    "print('output_3 = ', solution([[3,9], [4,6], [1,3]], 4)) #정답 3"
   ]
  },
  {
   "cell_type": "markdown",
   "metadata": {},
   "source": [
    "# 5. 지각 여부 (함수작성)\n",
    "매개변수 :<br>\n",
    "&emsp;arr = 5분마다 정거장에 버스가 오고, 남은 자리가 표기되어있다.<br>\n",
    "&emsp;start = 출발시간<br>\n",
    "&emsp;end = 도착해야하는 시간<br>\n",
    "&emsp;duration = 이동시간 <br>\n",
    "<br>\n",
    "리턴값 : 아래 예시로 설명 <br>\n",
    "arr&emsp;&emsp;&emsp;&emsp;&emsp;&emsp;start&emsp;&emsp;&emsp;end&emsp;&emsp;duration&emsp;&emsp;result<br>\n",
    "--------------------------------------------------------------------------<br>\n",
    "[0,0,1,0,2,0,3],&emsp;\"09:00\"&emsp;\"09:30\"&emsp;15&emsp;&emsp;&emsp;&emsp;&ensp;0&emsp;&emsp;&emsp;#2대 놓쳐서 10분+이동15분+출발시간 = 9시25분이므로 지각안함 즉, 0<br>\n",
    "[0,0,0,0,0,5,8],&emsp;\"09:00\"&emsp;\"10:00\"&emsp;40&emsp;&emsp;&emsp;&emsp;&ensp;5&emsp;&emsp;&emsp;#5대 놓쳐서 25분+이동40분+출발시간 = 10시05분이므로 지각하고 즉, 5<br>\n",
    "[0,1,0,2,0,1,3],&emsp;\"09:00\"&emsp;\"09:10\"&emsp;&ensp;5&emsp;&emsp;&emsp;&emsp;&ensp;5&emsp;&emsp;&emsp;#1대 놓쳐서 5분+이동5분+출발시간 = 09시10분이므로 지각안함 즉, 0<br>\n",
    "\n",
    "\n",
    "위 예시와 같이 지각을 하지 않았다면 0을 리턴하고, 지각인 경우 얼마나 지각하였는지 리턴하는 함수를 작성하시오."
   ]
  },
  {
   "cell_type": "code",
   "execution_count": null,
   "metadata": {},
   "outputs": [],
   "source": [
    "def solution(arr, start, end, duration):\n",
    "\n",
    "    return answer\n",
    "\n",
    "print('output_1 = ',solution([0,0,1,0,2,0,3], \"09:00\", \"09:30\", 15)) #정답 0\n",
    "print('output_2 = ',solution([0,0,0,0,0,5,8], \"09:00\", \"10:00\", 40)) #정답 5\n",
    "print('output_3 = ',solution([0,1,0,2,0,1,3], \"09:00\", \"09:10\", 5))  #정답 0"
   ]
  },
  {
   "cell_type": "markdown",
   "metadata": {},
   "source": [
    "# 6. 전구 스위치 (함수 작성)\n",
    "\n",
    "1번부터 n번까지의 전구 스위치가 있다. 스위치를 작동시키면 전구가 꺼져있을땐 켜지고<br>\n",
    "켜져있을땐 꺼지도록 설계되어 있다.<br>\n",
    "\n",
    "\n",
    "하지만 특이하게도 2번 스위치를 작동하면 2의 배수인 스위치들이 작동하고,<br>\n",
    "3번 스위치를 작동하면 3의 배수인 스위치들이 작동한다.<br>\n",
    "\n",
    "\n",
    "최초에는 모든 전구가 꺼져있다 가정하였을때,<br>\n",
    "6번 전구인 경우 2번 스위치를 작동시켰을 때 켜지고, 3번 스위치를 작동시켰을 때 꺼졌다.<br>\n",
    "\n",
    "스위치번호가 기록된 배열(switch_list)과 스위치의 개수(n)가 주어졌을 때,<br>\n",
    "마지막에 켜져있는 전구들의 개수를 구하는 함수를 작성하시오.<br>"
   ]
  },
  {
   "cell_type": "code",
   "execution_count": null,
   "metadata": {},
   "outputs": [],
   "source": [
    "def solution(switch_list, n):\n",
    "\n",
    "    return answer"
   ]
  },
  {
   "cell_type": "code",
   "execution_count": null,
   "metadata": {},
   "outputs": [],
   "source": [
    "print('output_1 = ',solution([2, 3, 200, 300], 1000))  #정답 499\n",
    "print('output_2 = ',solution([2, 8], 1000))  #정답 375\n",
    "print('output_2 = ',solution([2, 2], 1000))  #정답 0"
   ]
  }
 ],
 "metadata": {
  "kernelspec": {
   "display_name": "Python 3",
   "language": "python",
   "name": "python3"
  },
  "language_info": {
   "codemirror_mode": {
    "name": "ipython",
    "version": 3
   },
   "file_extension": ".py",
   "mimetype": "text/x-python",
   "name": "python",
   "nbconvert_exporter": "python",
   "pygments_lexer": "ipython3",
   "version": "3.7.3"
  }
 },
 "nbformat": 4,
 "nbformat_minor": 2
}
