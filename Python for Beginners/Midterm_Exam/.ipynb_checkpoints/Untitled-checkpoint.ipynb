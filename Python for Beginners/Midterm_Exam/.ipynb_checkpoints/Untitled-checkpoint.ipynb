{
 "cells": [
  {
   "cell_type": "code",
   "execution_count": 27,
   "id": "149463f3-fff8-43c8-b668-973b3c306425",
   "metadata": {},
   "outputs": [],
   "source": []
  },
  {
   "cell_type": "code",
   "execution_count": 105,
   "id": "9b60966d-9001-4a16-bb80-a4d564088225",
   "metadata": {},
   "outputs": [],
   "source": [
    "inp = [[0,0,0], [0,1,0], [0,0,0]]"
   ]
  },
  {
   "cell_type": "code",
   "execution_count": 356,
   "id": "06681688-6714-42e4-a768-8d6e03e92749",
   "metadata": {},
   "outputs": [],
   "source": [
    "def func(inp):        \n",
    "    l = len(inp)\n",
    "    tmp = [[0]*l for _ in range(l)]\n",
    "    \n",
    "    for i in range(l):\n",
    "        for j in range(l):\n",
    "            if inp[i][j] == 1:\n",
    "                if j-1 >= 0:\n",
    "                    tmp[i][j-1] = 1\n",
    "                if j+1 < l:\n",
    "                    tmp[i][j+1] = 1\n",
    "                if i-1 >= 0:\n",
    "                    tmp[i-1][j] = 1\n",
    "                if i+1 < l:\n",
    "                    tmp[i+1][j] = 1\n",
    "\n",
    "    sum_lists = [[p+q for p,q in zip(x, y)] for x,y in zip(inp, tmp)]\n",
    "    sum_lists = [[1 if y==2 else y for y in x] for x in sum_lists]\n",
    "    \n",
    "    if all([all(x) for x in sum_lists]) == False:\n",
    "        return sum_lists, 0\n",
    "    else:\n",
    "        return sum_lists, 1\n",
    "\n",
    "def solution(inp):\n",
    "    tmp = inp\n",
    "    result = 0\n",
    "    \n",
    "    if all([all(x) for x in inp]):\n",
    "        return result\n",
    "    else:\n",
    "        while True:\n",
    "            print(tmp)\n",
    "            tmp, flag = func(tmp)\n",
    "            \n",
    "            if flag == 1:\n",
    "                print(tmp)\n",
    "                result += 1\n",
    "                return result\n",
    "            else:\n",
    "                result += 1\n",
    "                \n",
    "        return result"
   ]
  },
  {
   "cell_type": "code",
   "execution_count": 357,
   "id": "07b48320-f95e-4e74-8180-941f053f4904",
   "metadata": {},
   "outputs": [
    {
     "name": "stdout",
     "output_type": "stream",
     "text": [
      "[[0, 0, 0], [0, 1, 0], [0, 0, 0]]\n",
      "[[0, 1, 0], [1, 1, 1], [0, 1, 0]]\n",
      "[[1, 1, 1], [1, 1, 1], [1, 1, 1]]\n"
     ]
    },
    {
     "data": {
      "text/plain": [
       "2"
      ]
     },
     "execution_count": 357,
     "metadata": {},
     "output_type": "execute_result"
    }
   ],
   "source": [
    "solution([[0, 0, 0], [0, 1, 0], [0, 0, 0]])"
   ]
  },
  {
   "cell_type": "code",
   "execution_count": 358,
   "id": "a76c1473-689b-4004-9c20-d1ca32155548",
   "metadata": {},
   "outputs": [
    {
     "name": "stdout",
     "output_type": "stream",
     "text": [
      "[[1, 0, 0], [0, 0, 0], [0, 0, 0]]\n",
      "[[1, 1, 0], [1, 0, 0], [0, 0, 0]]\n",
      "[[1, 1, 1], [1, 1, 0], [1, 0, 0]]\n",
      "[[1, 1, 1], [1, 1, 1], [1, 1, 0]]\n",
      "[[1, 1, 1], [1, 1, 1], [1, 1, 1]]\n"
     ]
    },
    {
     "data": {
      "text/plain": [
       "4"
      ]
     },
     "execution_count": 358,
     "metadata": {},
     "output_type": "execute_result"
    }
   ],
   "source": [
    "solution([[1, 0, 0], [0, 0, 0], [0, 0, 0]])"
   ]
  },
  {
   "cell_type": "code",
   "execution_count": 359,
   "id": "8d5fc62d-ff83-4b43-bc6e-25c6b8592c45",
   "metadata": {},
   "outputs": [
    {
     "name": "stdout",
     "output_type": "stream",
     "text": [
      "[[1, 1, 1], [0, 0, 0], [0, 0, 0]]\n",
      "[[1, 1, 1], [1, 1, 1], [0, 0, 0]]\n",
      "[[1, 1, 1], [1, 1, 1], [1, 1, 1]]\n"
     ]
    },
    {
     "data": {
      "text/plain": [
       "2"
      ]
     },
     "execution_count": 359,
     "metadata": {},
     "output_type": "execute_result"
    }
   ],
   "source": [
    "solution([[1, 1, 1], [0, 0, 0], [0, 0, 0]])"
   ]
  },
  {
   "cell_type": "code",
   "execution_count": 360,
   "id": "739d9cd2-f579-444f-9efd-0365b45d4958",
   "metadata": {},
   "outputs": [
    {
     "data": {
      "text/plain": [
       "0"
      ]
     },
     "execution_count": 360,
     "metadata": {},
     "output_type": "execute_result"
    }
   ],
   "source": [
    "solution([[1, 1], [1, 1]])"
   ]
  },
  {
   "cell_type": "code",
   "execution_count": null,
   "id": "d9079a7f-6d75-4e69-9bdc-7f51f1102fbf",
   "metadata": {},
   "outputs": [],
   "source": []
  },
  {
   "cell_type": "code",
   "execution_count": null,
   "id": "dcdd011c-b291-4247-9bb9-745b9147c005",
   "metadata": {},
   "outputs": [],
   "source": []
  },
  {
   "cell_type": "code",
   "execution_count": null,
   "id": "5c7dca74-b89d-4556-94a3-d87f74e9e9e7",
   "metadata": {},
   "outputs": [],
   "source": []
  },
  {
   "cell_type": "code",
   "execution_count": null,
   "id": "d40cd1b5-5a33-4e01-af32-bf466e636707",
   "metadata": {},
   "outputs": [],
   "source": []
  },
  {
   "cell_type": "code",
   "execution_count": 343,
   "id": "a7403815-a63d-4632-b420-09b48f1e5172",
   "metadata": {},
   "outputs": [],
   "source": [
    "tmp, flag = func([[1, 0, 0], [0, 0, 0], [0, 0, 0]])"
   ]
  },
  {
   "cell_type": "code",
   "execution_count": 344,
   "id": "17fbaa78-becd-4e6e-89f7-d97b0c94463f",
   "metadata": {},
   "outputs": [
    {
     "data": {
      "text/plain": [
       "([[1, 1, 0], [1, 0, 0], [0, 0, 0]], 0)"
      ]
     },
     "execution_count": 344,
     "metadata": {},
     "output_type": "execute_result"
    }
   ],
   "source": [
    "tmp, flag"
   ]
  },
  {
   "cell_type": "code",
   "execution_count": 345,
   "id": "6f591d54-e28e-4384-9ae0-fc3b25a05172",
   "metadata": {},
   "outputs": [],
   "source": [
    "tmp, flag = func(tmp)"
   ]
  },
  {
   "cell_type": "code",
   "execution_count": 346,
   "id": "dbeccb3f-f649-4ca8-8b02-1a3ee84ea87c",
   "metadata": {},
   "outputs": [
    {
     "data": {
      "text/plain": [
       "([[1, 1, 1], [1, 1, 0], [1, 0, 0]], 0)"
      ]
     },
     "execution_count": 346,
     "metadata": {},
     "output_type": "execute_result"
    }
   ],
   "source": [
    "tmp, flag"
   ]
  },
  {
   "cell_type": "code",
   "execution_count": 347,
   "id": "27b87e7a-aa62-4e48-a9a1-368defb62e2d",
   "metadata": {},
   "outputs": [],
   "source": [
    "tmp, flag = func(tmp)"
   ]
  },
  {
   "cell_type": "code",
   "execution_count": 348,
   "id": "7efb6659-bc38-4ab4-a912-d673aaec59ef",
   "metadata": {},
   "outputs": [
    {
     "data": {
      "text/plain": [
       "([[1, 1, 1], [1, 1, 1], [1, 1, 0]], 0)"
      ]
     },
     "execution_count": 348,
     "metadata": {},
     "output_type": "execute_result"
    }
   ],
   "source": [
    "tmp, flag"
   ]
  },
  {
   "cell_type": "code",
   "execution_count": 349,
   "id": "5780a20d-e16b-410a-8b11-cbf959d2938c",
   "metadata": {},
   "outputs": [],
   "source": [
    "tmp, flag = func(tmp)"
   ]
  },
  {
   "cell_type": "code",
   "execution_count": 350,
   "id": "653a37f4-c5a0-4301-a84f-68d860c82683",
   "metadata": {},
   "outputs": [
    {
     "data": {
      "text/plain": [
       "([[1, 1, 1], [1, 1, 1], [1, 1, 1]], 1)"
      ]
     },
     "execution_count": 350,
     "metadata": {},
     "output_type": "execute_result"
    }
   ],
   "source": [
    "tmp, flag"
   ]
  },
  {
   "cell_type": "code",
   "execution_count": 351,
   "id": "f12e4253-511d-4649-9965-fe4ecb8164ae",
   "metadata": {},
   "outputs": [],
   "source": [
    "def solution(inp):\n",
    "    tmp = inp\n",
    "    result = 0\n",
    "    \n",
    "    if all([all(x) for x in inp]):\n",
    "        return result\n",
    "    else:\n",
    "        while True:\n",
    "            print(tmp)\n",
    "            tmp, flag = func(tmp)\n",
    "            \n",
    "            if flag == 1:\n",
    "                print(tmp)\n",
    "                result += 1\n",
    "                return result\n",
    "            else:\n",
    "                result += 1\n",
    "                \n",
    "        return result"
   ]
  },
  {
   "cell_type": "code",
   "execution_count": 352,
   "id": "d4026147-dce8-465c-8d85-25f153674c3c",
   "metadata": {},
   "outputs": [
    {
     "name": "stdout",
     "output_type": "stream",
     "text": [
      "[[0, 0, 0], [0, 1, 0], [0, 0, 0]]\n",
      "[[0, 1, 0], [1, 1, 1], [0, 1, 0]]\n",
      "[[1, 1, 1], [1, 1, 1], [1, 1, 1]]\n"
     ]
    },
    {
     "data": {
      "text/plain": [
       "2"
      ]
     },
     "execution_count": 352,
     "metadata": {},
     "output_type": "execute_result"
    }
   ],
   "source": [
    "solution([[0, 0, 0], [0, 1, 0], [0, 0, 0]])"
   ]
  },
  {
   "cell_type": "code",
   "execution_count": 353,
   "id": "0835a3bc-413b-4b33-85c7-273d376b96bc",
   "metadata": {},
   "outputs": [
    {
     "data": {
      "text/plain": [
       "0"
      ]
     },
     "execution_count": 353,
     "metadata": {},
     "output_type": "execute_result"
    }
   ],
   "source": [
    "solution([[1,1], [1,1]])"
   ]
  },
  {
   "cell_type": "code",
   "execution_count": 355,
   "id": "58b77c86-ebfd-4ce8-aab8-cc9fe64353c5",
   "metadata": {},
   "outputs": [
    {
     "name": "stdout",
     "output_type": "stream",
     "text": [
      "[[0, 0, 0], [0, 0, 0], [0, 0, 1]]\n",
      "[[0, 0, 0], [0, 0, 1], [0, 1, 1]]\n",
      "[[0, 0, 1], [0, 1, 1], [1, 1, 1]]\n",
      "[[0, 1, 1], [1, 1, 1], [1, 1, 1]]\n",
      "[[1, 1, 1], [1, 1, 1], [1, 1, 1]]\n"
     ]
    },
    {
     "data": {
      "text/plain": [
       "4"
      ]
     },
     "execution_count": 355,
     "metadata": {},
     "output_type": "execute_result"
    }
   ],
   "source": [
    "solution([[0, 0, 0], [0, 0, 0], [0, 0, 1]])"
   ]
  },
  {
   "cell_type": "code",
   "execution_count": 238,
   "id": "4c40320b-d831-464e-a58d-249e6eb10d3b",
   "metadata": {},
   "outputs": [
    {
     "name": "stdout",
     "output_type": "stream",
     "text": [
      "[[1, 1], [1, 1]]\n",
      "0\n",
      "[[1, 1], [1, 1]]\n",
      "0\n"
     ]
    },
    {
     "data": {
      "text/plain": [
       "1"
      ]
     },
     "execution_count": 238,
     "metadata": {},
     "output_type": "execute_result"
    }
   ],
   "source": [
    "tmp = [[1,1], [1,1]]\n",
    "result = 1\n",
    "\n",
    "for i in range(len(tmp)):\n",
    "    print(tmp)\n",
    "    tmp, flag = func(tmp)\n",
    "    \n",
    "    if flag == 1:\n",
    "        print(0)\n",
    "    else:\n",
    "        result += 1\n",
    "result"
   ]
  },
  {
   "cell_type": "code",
   "execution_count": null,
   "id": "d34e7c49-2734-409e-bc3f-1767310374ed",
   "metadata": {},
   "outputs": [],
   "source": []
  },
  {
   "cell_type": "code",
   "execution_count": null,
   "id": "d782af7e-2a07-4311-b279-0d4bfda39152",
   "metadata": {},
   "outputs": [],
   "source": []
  },
  {
   "cell_type": "code",
   "execution_count": null,
   "id": "3ba171e7-e515-4ce8-886f-1efa04d152dd",
   "metadata": {},
   "outputs": [],
   "source": []
  },
  {
   "cell_type": "code",
   "execution_count": 67,
   "id": "8a50dcf1-71f8-4d50-bcc3-593135862b5b",
   "metadata": {},
   "outputs": [],
   "source": [
    "inp = [[0,0,0], [0,1,0], [0,0,0]]\n",
    "\n",
    "tmp = inp\n",
    "#for loop in range(l):\n",
    "\n",
    "\n",
    "def func(inp):\n",
    "    l = len(inp)\n",
    "    tmp = [[0]*l]*l\n",
    "    for i in range(l):\n",
    "        for j in range(l):\n",
    "            if inp[i][j] == 1:            \n",
    "                try:\n",
    "                    tmp[i][j-1] = 1\n",
    "                except:\n",
    "                    pass\n",
    "                try:\n",
    "                    tmp[i][j+1] = 1\n",
    "                except:\n",
    "                    pass\n",
    "                try:\n",
    "                    tmp[i+1][j] = 1\n",
    "                except:\n",
    "                    pass\n",
    "                try:\n",
    "                    tmp[i-1][j] = 1\n",
    "                except:\n",
    "                    pass\n",
    "    return tmp\n",
    "\n",
    "\n",
    "\n",
    "result = 0\n",
    "if all([all(x) for x in tmp]) == False:\n",
    "    result += 1\n",
    "tmp = [[1 if y==2 else y for y in x] for x in tmp]\n"
   ]
  },
  {
   "cell_type": "code",
   "execution_count": 84,
   "id": "11fb8e78-b9f6-4061-9806-6294452fe4d1",
   "metadata": {},
   "outputs": [
    {
     "name": "stdout",
     "output_type": "stream",
     "text": [
      "[[0, 1, 0], [1, 1, 1], [0, 1, 0]]\n",
      "[[1, 1, 1], [1, 1, 1], [1, 1, 0]]\n",
      "[[1, 1, 1], [1, 1, 1], [1, 1, 0]]\n",
      "3\n"
     ]
    }
   ],
   "source": [
    "inp = [[0,0,0], [0,1,0], [0,0,0]]\n",
    "result = 0\n",
    "tmp = inp\n",
    "\n",
    "for loop in range(len(inp)):\n",
    "    if all([all(x) for x in tmp]) == False:\n",
    "        result += 1\n",
    "    tmp = [[1 if y==2 else y for y in x] for x in func(tmp)]\n",
    "    print(tmp)\n",
    "    \n",
    "print(result)"
   ]
  },
  {
   "cell_type": "code",
   "execution_count": 83,
   "id": "6fea1b9e-4e56-49a7-8065-ae1144053954",
   "metadata": {},
   "outputs": [
    {
     "data": {
      "text/plain": [
       "False"
      ]
     },
     "execution_count": 83,
     "metadata": {},
     "output_type": "execute_result"
    }
   ],
   "source": [
    "all([all(x) for x in tmp])"
   ]
  },
  {
   "cell_type": "code",
   "execution_count": 95,
   "id": "2c748adc-c250-4a18-abe6-22d260462dc5",
   "metadata": {},
   "outputs": [
    {
     "data": {
      "text/plain": [
       "[[0, 0, 0], [0, 1, 0], [0, 0, 0]]"
      ]
     },
     "execution_count": 95,
     "metadata": {},
     "output_type": "execute_result"
    }
   ],
   "source": [
    "inp = [[0,0,0], [0,1,0], [0,0,0]]\n",
    "tmp = inp\n",
    "tmp"
   ]
  },
  {
   "cell_type": "code",
   "execution_count": 97,
   "id": "494d7e68-3480-4d02-97c2-6f25839c3123",
   "metadata": {},
   "outputs": [
    {
     "data": {
      "text/plain": [
       "[[0, 2, 0], [2, 1, 2], [0, 2, 0]]"
      ]
     },
     "execution_count": 97,
     "metadata": {},
     "output_type": "execute_result"
    }
   ],
   "source": [
    "func(tmp)"
   ]
  },
  {
   "cell_type": "code",
   "execution_count": 98,
   "id": "04b30e1c-5d03-45c5-ade1-9a9c599f4314",
   "metadata": {},
   "outputs": [],
   "source": [
    "tmp = [[1 if y==2 else y for y in x] for x in func(tmp)]"
   ]
  },
  {
   "cell_type": "code",
   "execution_count": 99,
   "id": "90041731-4d22-4014-8fcd-78e631d62f52",
   "metadata": {},
   "outputs": [
    {
     "data": {
      "text/plain": [
       "[[0, 1, 0], [1, 1, 1], [0, 1, 0]]"
      ]
     },
     "execution_count": 99,
     "metadata": {},
     "output_type": "execute_result"
    }
   ],
   "source": [
    "tmp"
   ]
  },
  {
   "cell_type": "code",
   "execution_count": 101,
   "id": "4b340ffa-5765-4f29-b3d4-b4195ba2dfe7",
   "metadata": {},
   "outputs": [
    {
     "data": {
      "text/plain": [
       "[[2, 1, 2], [1, 2, 2], [2, 2, 0]]"
      ]
     },
     "execution_count": 101,
     "metadata": {},
     "output_type": "execute_result"
    }
   ],
   "source": [
    "func(tmp)"
   ]
  },
  {
   "cell_type": "code",
   "execution_count": null,
   "id": "7ec35ab5-44e4-47e6-8258-7b219ab51f19",
   "metadata": {},
   "outputs": [],
   "source": []
  }
 ],
 "metadata": {
  "kernelspec": {
   "display_name": "pytest",
   "language": "python",
   "name": "pytest"
  },
  "language_info": {
   "codemirror_mode": {
    "name": "ipython",
    "version": 3
   },
   "file_extension": ".py",
   "mimetype": "text/x-python",
   "name": "python",
   "nbconvert_exporter": "python",
   "pygments_lexer": "ipython3",
   "version": "3.12.0"
  }
 },
 "nbformat": 4,
 "nbformat_minor": 5
}
